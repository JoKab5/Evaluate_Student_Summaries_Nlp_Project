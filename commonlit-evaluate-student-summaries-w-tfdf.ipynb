{
 "metadata": {
  "kernelspec": {
   "language": "python",
   "display_name": "Python 3",
   "name": "python3"
  },
  "language_info": {
   "pygments_lexer": "ipython3",
   "nbconvert_exporter": "python",
   "version": "3.6.4",
   "file_extension": ".py",
   "codemirror_mode": {
    "name": "ipython",
    "version": 3
   },
   "name": "python",
   "mimetype": "text/x-python"
  }
 },
 "nbformat_minor": 4,
 "nbformat": 4,
 "cells": [
  {
   "cell_type": "markdown",
   "source": [
    "# CommonLit - Evaluate Student Summaries Dataset with TensorFlow Decision Forests"
   ],
   "metadata": {}
  },
  {
   "cell_type": "markdown",
   "source": [
    "This notebook walks you through how to train a baseline Random Forest model using TensorFlow Decision Forests on the **CommonLit - Evaluate Student Summaries** dataset made available for this competition.\n",
    "\n",
    "Roughly, the code will look as follows:\n",
    "\n",
    "```\n",
    "import tensorflow_decision_forests as tfdf\n",
    "import pandas as pd\n",
    "\n",
    "dataset = pd.read_csv(\"project/dataset.csv\")\n",
    "tf_dataset = tfdf.keras.pd_dataframe_to_tf_dataset(dataset, label=\"my_label\")\n",
    "\n",
    "model = tfdf.keras.RandomForestModel()\n",
    "model.fit(tf_dataset)\n",
    "\n",
    "print(model.summary())\n",
    "```\n",
    "\n",
    "Decision Forests are a family of tree-based models including Random Forests and Gradient Boosted Trees. They are the best place to start when working with tabular data, and will often outperform (or provide a strong baseline) before you begin experimenting with neural networks."
   ],
   "metadata": {}
  },
  {
   "cell_type": "markdown",
   "source": [
    "# Import the libraries"
   ],
   "metadata": {}
  },
  {
   "cell_type": "code",
   "source": [
    "import string\n",
    "import re\n",
    "import numpy as np\n",
    "import pandas as pd\n",
    "import tensorflow as tf\n",
    "#import tensorflow_decision_forests as tfdf\n",
    "from nltk.corpus import stopwords\n",
    "import seaborn as sns\n",
    "import matplotlib.pyplot as plt"
   ],
   "metadata": {
    "execution": {
     "iopub.status.busy": "2023-08-17T10:47:18.223826Z",
     "iopub.execute_input": "2023-08-17T10:47:18.224232Z",
     "iopub.status.idle": "2023-08-17T10:47:32.554534Z",
     "shell.execute_reply.started": "2023-08-17T10:47:18.224198Z",
     "shell.execute_reply": "2023-08-17T10:47:32.552472Z"
    },
    "trusted": true,
    "ExecuteTime": {
     "end_time": "2023-09-24T13:00:10.527282400Z",
     "start_time": "2023-09-24T13:00:08.054691200Z"
    }
   },
   "execution_count": 1,
   "outputs": []
  },
  {
   "cell_type": "code",
   "source": [
    "print(\"TensorFlow v\" + tf.__version__)\n"
   ],
   "metadata": {
    "execution": {
     "iopub.status.busy": "2023-08-17T10:47:32.556937Z",
     "iopub.execute_input": "2023-08-17T10:47:32.557685Z",
     "iopub.status.idle": "2023-08-17T10:47:32.565396Z",
     "shell.execute_reply.started": "2023-08-17T10:47:32.557643Z",
     "shell.execute_reply": "2023-08-17T10:47:32.563923Z"
    },
    "trusted": true,
    "ExecuteTime": {
     "end_time": "2023-09-24T13:01:26.027012300Z",
     "start_time": "2023-09-24T13:01:26.011402600Z"
    }
   },
   "execution_count": 3,
   "outputs": [
    {
     "name": "stdout",
     "output_type": "stream",
     "text": [
      "TensorFlow v2.13.0\n"
     ]
    }
   ]
  },
  {
   "cell_type": "markdown",
   "source": [
    "# Load the Dataset"
   ],
   "metadata": {}
  },
  {
   "cell_type": "markdown",
   "source": [
    "### Load the prompt csv"
   ],
   "metadata": {}
  },
  {
   "cell_type": "code",
   "source": [
    "df_train_prompt = pd.read_csv('data/prompts_train.csv')\n",
    "print(\"Full prompt train dataset shape is {}\".format(df_train_prompt.shape))"
   ],
   "metadata": {
    "execution": {
     "iopub.status.busy": "2023-08-17T10:47:32.566876Z",
     "iopub.execute_input": "2023-08-17T10:47:32.567300Z",
     "iopub.status.idle": "2023-08-17T10:47:32.601777Z",
     "shell.execute_reply.started": "2023-08-17T10:47:32.567249Z",
     "shell.execute_reply": "2023-08-17T10:47:32.600654Z"
    },
    "trusted": true,
    "ExecuteTime": {
     "end_time": "2023-09-24T13:02:12.836276200Z",
     "start_time": "2023-09-24T13:02:12.817739900Z"
    }
   },
   "execution_count": 5,
   "outputs": [
    {
     "name": "stdout",
     "output_type": "stream",
     "text": [
      "Full prompt train dataset shape is (4, 4)\n"
     ]
    }
   ]
  },
  {
   "cell_type": "markdown",
   "source": [
    "The data is composed of 4 columns and 4 entries. We can see all 4 dimensions of our dataset by using the following code:"
   ],
   "metadata": {}
  },
  {
   "cell_type": "code",
   "source": [
    "df_train_prompt.head()"
   ],
   "metadata": {
    "execution": {
     "iopub.status.busy": "2023-08-17T10:47:32.603439Z",
     "iopub.execute_input": "2023-08-17T10:47:32.604920Z",
     "iopub.status.idle": "2023-08-17T10:47:32.631432Z",
     "shell.execute_reply.started": "2023-08-17T10:47:32.604867Z",
     "shell.execute_reply": "2023-08-17T10:47:32.630051Z"
    },
    "trusted": true,
    "ExecuteTime": {
     "end_time": "2023-09-24T13:02:30.499713500Z",
     "start_time": "2023-09-24T13:02:30.452710600Z"
    }
   },
   "execution_count": 7,
   "outputs": [
    {
     "data": {
      "text/plain": "  prompt_id                                    prompt_question  \\\n0    39c16e  Summarize at least 3 elements of an ideal trag...   \n1    3b9047  In complete sentences, summarize the structure...   \n2    814d6b  Summarize how the Third Wave developed over su...   \n3    ebad26  Summarize the various ways the factory would u...   \n\n                prompt_title  \\\n0                 On Tragedy   \n1  Egyptian Social Structure   \n2             The Third Wave   \n3    Excerpt from The Jungle   \n\n                                         prompt_text  \n0  Chapter 13 \\r\\nAs the sequel to what has alrea...  \n1  Egyptian society was structured like a pyramid...  \n2  Background \\r\\nThe Third Wave experiment took ...  \n3  With one member trimming beef in a cannery, an...  ",
      "text/html": "<div>\n<style scoped>\n    .dataframe tbody tr th:only-of-type {\n        vertical-align: middle;\n    }\n\n    .dataframe tbody tr th {\n        vertical-align: top;\n    }\n\n    .dataframe thead th {\n        text-align: right;\n    }\n</style>\n<table border=\"1\" class=\"dataframe\">\n  <thead>\n    <tr style=\"text-align: right;\">\n      <th></th>\n      <th>prompt_id</th>\n      <th>prompt_question</th>\n      <th>prompt_title</th>\n      <th>prompt_text</th>\n    </tr>\n  </thead>\n  <tbody>\n    <tr>\n      <th>0</th>\n      <td>39c16e</td>\n      <td>Summarize at least 3 elements of an ideal trag...</td>\n      <td>On Tragedy</td>\n      <td>Chapter 13 \\r\\nAs the sequel to what has alrea...</td>\n    </tr>\n    <tr>\n      <th>1</th>\n      <td>3b9047</td>\n      <td>In complete sentences, summarize the structure...</td>\n      <td>Egyptian Social Structure</td>\n      <td>Egyptian society was structured like a pyramid...</td>\n    </tr>\n    <tr>\n      <th>2</th>\n      <td>814d6b</td>\n      <td>Summarize how the Third Wave developed over su...</td>\n      <td>The Third Wave</td>\n      <td>Background \\r\\nThe Third Wave experiment took ...</td>\n    </tr>\n    <tr>\n      <th>3</th>\n      <td>ebad26</td>\n      <td>Summarize the various ways the factory would u...</td>\n      <td>Excerpt from The Jungle</td>\n      <td>With one member trimming beef in a cannery, an...</td>\n    </tr>\n  </tbody>\n</table>\n</div>"
     },
     "execution_count": 7,
     "metadata": {},
     "output_type": "execute_result"
    }
   ]
  },
  {
   "cell_type": "markdown",
   "source": [
    "### Load the summaries csv"
   ],
   "metadata": {}
  },
  {
   "cell_type": "code",
   "source": [
    "df_train_summaries = pd.read_csv('data/summaries_train.csv')\n",
    "print(\"Full summaries train dataset shape is {}\".format(df_train_summaries.shape))"
   ],
   "metadata": {
    "execution": {
     "iopub.status.busy": "2023-08-17T10:47:32.637291Z",
     "iopub.execute_input": "2023-08-17T10:47:32.637779Z",
     "iopub.status.idle": "2023-08-17T10:47:32.758973Z",
     "shell.execute_reply.started": "2023-08-17T10:47:32.637742Z",
     "shell.execute_reply": "2023-08-17T10:47:32.758043Z"
    },
    "trusted": true,
    "ExecuteTime": {
     "end_time": "2023-09-24T13:02:26.263816500Z",
     "start_time": "2023-09-24T13:02:26.215712600Z"
    }
   },
   "execution_count": 6,
   "outputs": [
    {
     "name": "stdout",
     "output_type": "stream",
     "text": [
      "Full summaries train dataset shape is (7165, 5)\n"
     ]
    }
   ]
  },
  {
   "cell_type": "markdown",
   "source": [
    "The data is composed of 5 columns and 7165 entries. We can see all 5 dimensions of our dataset by printing out the first 5 entries using the following code:"
   ],
   "metadata": {}
  },
  {
   "cell_type": "code",
   "source": [
    "df_train_summaries.head()"
   ],
   "metadata": {
    "execution": {
     "iopub.status.busy": "2023-08-17T10:47:32.760125Z",
     "iopub.execute_input": "2023-08-17T10:47:32.761545Z",
     "iopub.status.idle": "2023-08-17T10:47:32.779646Z",
     "shell.execute_reply.started": "2023-08-17T10:47:32.761491Z",
     "shell.execute_reply": "2023-08-17T10:47:32.777762Z"
    },
    "trusted": true,
    "ExecuteTime": {
     "end_time": "2023-09-24T13:03:20.327432Z",
     "start_time": "2023-09-24T13:03:20.317712400Z"
    }
   },
   "execution_count": 8,
   "outputs": [
    {
     "data": {
      "text/plain": "     student_id prompt_id                                               text  \\\n0  000e8c3c7ddb    814d6b  The third wave was an experimentto see how peo...   \n1  0020ae56ffbf    ebad26  They would rub it up with soda to make the sme...   \n2  004e978e639e    3b9047  In Egypt, there were many occupations and soci...   \n3  005ab0199905    3b9047  The highest class was Pharaohs these people we...   \n4  0070c9e7af47    814d6b  The Third Wave developed  rapidly because the ...   \n\n    content   wording  \n0  0.205683  0.380538  \n1 -0.548304  0.506755  \n2  3.128928  4.231226  \n3 -0.210614 -0.471415  \n4  3.272894  3.219757  ",
      "text/html": "<div>\n<style scoped>\n    .dataframe tbody tr th:only-of-type {\n        vertical-align: middle;\n    }\n\n    .dataframe tbody tr th {\n        vertical-align: top;\n    }\n\n    .dataframe thead th {\n        text-align: right;\n    }\n</style>\n<table border=\"1\" class=\"dataframe\">\n  <thead>\n    <tr style=\"text-align: right;\">\n      <th></th>\n      <th>student_id</th>\n      <th>prompt_id</th>\n      <th>text</th>\n      <th>content</th>\n      <th>wording</th>\n    </tr>\n  </thead>\n  <tbody>\n    <tr>\n      <th>0</th>\n      <td>000e8c3c7ddb</td>\n      <td>814d6b</td>\n      <td>The third wave was an experimentto see how peo...</td>\n      <td>0.205683</td>\n      <td>0.380538</td>\n    </tr>\n    <tr>\n      <th>1</th>\n      <td>0020ae56ffbf</td>\n      <td>ebad26</td>\n      <td>They would rub it up with soda to make the sme...</td>\n      <td>-0.548304</td>\n      <td>0.506755</td>\n    </tr>\n    <tr>\n      <th>2</th>\n      <td>004e978e639e</td>\n      <td>3b9047</td>\n      <td>In Egypt, there were many occupations and soci...</td>\n      <td>3.128928</td>\n      <td>4.231226</td>\n    </tr>\n    <tr>\n      <th>3</th>\n      <td>005ab0199905</td>\n      <td>3b9047</td>\n      <td>The highest class was Pharaohs these people we...</td>\n      <td>-0.210614</td>\n      <td>-0.471415</td>\n    </tr>\n    <tr>\n      <th>4</th>\n      <td>0070c9e7af47</td>\n      <td>814d6b</td>\n      <td>The Third Wave developed  rapidly because the ...</td>\n      <td>3.272894</td>\n      <td>3.219757</td>\n    </tr>\n  </tbody>\n</table>\n</div>"
     },
     "execution_count": 8,
     "metadata": {},
     "output_type": "execute_result"
    }
   ]
  },
  {
   "cell_type": "markdown",
   "source": [
    "### Combine both summaries and prompt csv's based on prompt id"
   ],
   "metadata": {}
  },
  {
   "cell_type": "code",
   "source": [
    "df_train = df_train_summaries.merge(df_train_prompt, on='prompt_id')\n",
    "print(\"Full summaries train dataset shape is {}\".format(df_train.shape))"
   ],
   "metadata": {
    "execution": {
     "iopub.status.busy": "2023-08-17T10:47:32.781963Z",
     "iopub.execute_input": "2023-08-17T10:47:32.782550Z",
     "iopub.status.idle": "2023-08-17T10:47:32.815716Z",
     "shell.execute_reply.started": "2023-08-17T10:47:32.782500Z",
     "shell.execute_reply": "2023-08-17T10:47:32.814274Z"
    },
    "trusted": true,
    "ExecuteTime": {
     "end_time": "2023-09-24T13:03:24.841265Z",
     "start_time": "2023-09-24T13:03:24.832424300Z"
    }
   },
   "execution_count": 9,
   "outputs": [
    {
     "name": "stdout",
     "output_type": "stream",
     "text": [
      "Full summaries train dataset shape is (7165, 8)\n"
     ]
    }
   ]
  },
  {
   "cell_type": "markdown",
   "source": [
    "The data is composed of 8 columns and 7165 entries. We can see all 8 dimensions of our dataset by printing out the first 5 entries using the following code:"
   ],
   "metadata": {}
  },
  {
   "cell_type": "code",
   "source": [
    "df_train.head()"
   ],
   "metadata": {
    "execution": {
     "iopub.status.busy": "2023-08-17T10:47:32.817405Z",
     "iopub.execute_input": "2023-08-17T10:47:32.817861Z",
     "iopub.status.idle": "2023-08-17T10:47:32.838028Z",
     "shell.execute_reply.started": "2023-08-17T10:47:32.817817Z",
     "shell.execute_reply": "2023-08-17T10:47:32.836971Z"
    },
    "trusted": true,
    "ExecuteTime": {
     "end_time": "2023-09-24T13:03:31.618894700Z",
     "start_time": "2023-09-24T13:03:31.587555500Z"
    }
   },
   "execution_count": 10,
   "outputs": [
    {
     "data": {
      "text/plain": "     student_id prompt_id                                               text  \\\n0  000e8c3c7ddb    814d6b  The third wave was an experimentto see how peo...   \n1  0070c9e7af47    814d6b  The Third Wave developed  rapidly because the ...   \n2  0095993991fe    814d6b  The third wave only started as an experiment w...   \n3  00c20c6ddd23    814d6b  The experimen was orginally about how even whe...   \n4  00d40ad10dc9    814d6b  The third wave developed so quickly due to the...   \n\n    content   wording                                    prompt_question  \\\n0  0.205683  0.380538  Summarize how the Third Wave developed over su...   \n1  3.272894  3.219757  Summarize how the Third Wave developed over su...   \n2  0.205683  0.380538  Summarize how the Third Wave developed over su...   \n3  0.567975  0.969062  Summarize how the Third Wave developed over su...   \n4 -0.910596 -0.081769  Summarize how the Third Wave developed over su...   \n\n     prompt_title                                        prompt_text  \n0  The Third Wave  Background \\r\\nThe Third Wave experiment took ...  \n1  The Third Wave  Background \\r\\nThe Third Wave experiment took ...  \n2  The Third Wave  Background \\r\\nThe Third Wave experiment took ...  \n3  The Third Wave  Background \\r\\nThe Third Wave experiment took ...  \n4  The Third Wave  Background \\r\\nThe Third Wave experiment took ...  ",
      "text/html": "<div>\n<style scoped>\n    .dataframe tbody tr th:only-of-type {\n        vertical-align: middle;\n    }\n\n    .dataframe tbody tr th {\n        vertical-align: top;\n    }\n\n    .dataframe thead th {\n        text-align: right;\n    }\n</style>\n<table border=\"1\" class=\"dataframe\">\n  <thead>\n    <tr style=\"text-align: right;\">\n      <th></th>\n      <th>student_id</th>\n      <th>prompt_id</th>\n      <th>text</th>\n      <th>content</th>\n      <th>wording</th>\n      <th>prompt_question</th>\n      <th>prompt_title</th>\n      <th>prompt_text</th>\n    </tr>\n  </thead>\n  <tbody>\n    <tr>\n      <th>0</th>\n      <td>000e8c3c7ddb</td>\n      <td>814d6b</td>\n      <td>The third wave was an experimentto see how peo...</td>\n      <td>0.205683</td>\n      <td>0.380538</td>\n      <td>Summarize how the Third Wave developed over su...</td>\n      <td>The Third Wave</td>\n      <td>Background \\r\\nThe Third Wave experiment took ...</td>\n    </tr>\n    <tr>\n      <th>1</th>\n      <td>0070c9e7af47</td>\n      <td>814d6b</td>\n      <td>The Third Wave developed  rapidly because the ...</td>\n      <td>3.272894</td>\n      <td>3.219757</td>\n      <td>Summarize how the Third Wave developed over su...</td>\n      <td>The Third Wave</td>\n      <td>Background \\r\\nThe Third Wave experiment took ...</td>\n    </tr>\n    <tr>\n      <th>2</th>\n      <td>0095993991fe</td>\n      <td>814d6b</td>\n      <td>The third wave only started as an experiment w...</td>\n      <td>0.205683</td>\n      <td>0.380538</td>\n      <td>Summarize how the Third Wave developed over su...</td>\n      <td>The Third Wave</td>\n      <td>Background \\r\\nThe Third Wave experiment took ...</td>\n    </tr>\n    <tr>\n      <th>3</th>\n      <td>00c20c6ddd23</td>\n      <td>814d6b</td>\n      <td>The experimen was orginally about how even whe...</td>\n      <td>0.567975</td>\n      <td>0.969062</td>\n      <td>Summarize how the Third Wave developed over su...</td>\n      <td>The Third Wave</td>\n      <td>Background \\r\\nThe Third Wave experiment took ...</td>\n    </tr>\n    <tr>\n      <th>4</th>\n      <td>00d40ad10dc9</td>\n      <td>814d6b</td>\n      <td>The third wave developed so quickly due to the...</td>\n      <td>-0.910596</td>\n      <td>-0.081769</td>\n      <td>Summarize how the Third Wave developed over su...</td>\n      <td>The Third Wave</td>\n      <td>Background \\r\\nThe Third Wave experiment took ...</td>\n    </tr>\n  </tbody>\n</table>\n</div>"
     },
     "execution_count": 10,
     "metadata": {},
     "output_type": "execute_result"
    }
   ]
  },
  {
   "cell_type": "markdown",
   "source": [
    "# Quick basic dataset exploration"
   ],
   "metadata": {}
  },
  {
   "cell_type": "code",
   "source": [
    "df_train.describe()"
   ],
   "metadata": {
    "execution": {
     "iopub.status.busy": "2023-08-17T10:47:32.839324Z",
     "iopub.execute_input": "2023-08-17T10:47:32.839724Z",
     "iopub.status.idle": "2023-08-17T10:47:32.867410Z",
     "shell.execute_reply.started": "2023-08-17T10:47:32.839690Z",
     "shell.execute_reply": "2023-08-17T10:47:32.866195Z"
    },
    "trusted": true,
    "ExecuteTime": {
     "end_time": "2023-09-24T13:03:45.200927300Z",
     "start_time": "2023-09-24T13:03:45.179389Z"
    }
   },
   "execution_count": 11,
   "outputs": [
    {
     "data": {
      "text/plain": "           content      wording\ncount  7165.000000  7165.000000\nmean     -0.014853    -0.063072\nstd       1.043569     1.036048\nmin      -1.729859    -1.962614\n25%      -0.799545    -0.872720\n50%      -0.093814    -0.081769\n75%       0.499660     0.503833\nmax       3.900326     4.310693",
      "text/html": "<div>\n<style scoped>\n    .dataframe tbody tr th:only-of-type {\n        vertical-align: middle;\n    }\n\n    .dataframe tbody tr th {\n        vertical-align: top;\n    }\n\n    .dataframe thead th {\n        text-align: right;\n    }\n</style>\n<table border=\"1\" class=\"dataframe\">\n  <thead>\n    <tr style=\"text-align: right;\">\n      <th></th>\n      <th>content</th>\n      <th>wording</th>\n    </tr>\n  </thead>\n  <tbody>\n    <tr>\n      <th>count</th>\n      <td>7165.000000</td>\n      <td>7165.000000</td>\n    </tr>\n    <tr>\n      <th>mean</th>\n      <td>-0.014853</td>\n      <td>-0.063072</td>\n    </tr>\n    <tr>\n      <th>std</th>\n      <td>1.043569</td>\n      <td>1.036048</td>\n    </tr>\n    <tr>\n      <th>min</th>\n      <td>-1.729859</td>\n      <td>-1.962614</td>\n    </tr>\n    <tr>\n      <th>25%</th>\n      <td>-0.799545</td>\n      <td>-0.872720</td>\n    </tr>\n    <tr>\n      <th>50%</th>\n      <td>-0.093814</td>\n      <td>-0.081769</td>\n    </tr>\n    <tr>\n      <th>75%</th>\n      <td>0.499660</td>\n      <td>0.503833</td>\n    </tr>\n    <tr>\n      <th>max</th>\n      <td>3.900326</td>\n      <td>4.310693</td>\n    </tr>\n  </tbody>\n</table>\n</div>"
     },
     "execution_count": 11,
     "metadata": {},
     "output_type": "execute_result"
    }
   ]
  },
  {
   "cell_type": "code",
   "source": [
    "df_train.info()"
   ],
   "metadata": {
    "execution": {
     "iopub.status.busy": "2023-08-17T10:47:32.869523Z",
     "iopub.execute_input": "2023-08-17T10:47:32.870046Z",
     "iopub.status.idle": "2023-08-17T10:47:32.910158Z",
     "shell.execute_reply.started": "2023-08-17T10:47:32.869999Z",
     "shell.execute_reply": "2023-08-17T10:47:32.908725Z"
    },
    "trusted": true,
    "ExecuteTime": {
     "end_time": "2023-09-24T13:03:48.728643700Z",
     "start_time": "2023-09-24T13:03:48.697116900Z"
    }
   },
   "execution_count": 12,
   "outputs": [
    {
     "name": "stdout",
     "output_type": "stream",
     "text": [
      "<class 'pandas.core.frame.DataFrame'>\n",
      "Int64Index: 7165 entries, 0 to 7164\n",
      "Data columns (total 8 columns):\n",
      " #   Column           Non-Null Count  Dtype  \n",
      "---  ------           --------------  -----  \n",
      " 0   student_id       7165 non-null   object \n",
      " 1   prompt_id        7165 non-null   object \n",
      " 2   text             7165 non-null   object \n",
      " 3   content          7165 non-null   float64\n",
      " 4   wording          7165 non-null   float64\n",
      " 5   prompt_question  7165 non-null   object \n",
      " 6   prompt_title     7165 non-null   object \n",
      " 7   prompt_text      7165 non-null   object \n",
      "dtypes: float64(2), object(6)\n",
      "memory usage: 503.8+ KB\n"
     ]
    }
   ]
  },
  {
   "cell_type": "markdown",
   "source": [
    "# Label data distribution"
   ],
   "metadata": {}
  },
  {
   "cell_type": "code",
   "source": [
    "plt.figure(figsize = (15, 5))\n",
    "plt.subplot(1, 2, 1)\n",
    "sns.histplot(data=df_train, x='content')\n",
    "plt.subplot(1, 2, 2)\n",
    "sns.histplot(data=df_train, x='wording')\n",
    "plt.show()"
   ],
   "metadata": {
    "execution": {
     "iopub.status.busy": "2023-08-17T10:47:32.912006Z",
     "iopub.execute_input": "2023-08-17T10:47:32.912411Z",
     "iopub.status.idle": "2023-08-17T10:47:33.679145Z",
     "shell.execute_reply.started": "2023-08-17T10:47:32.912379Z",
     "shell.execute_reply": "2023-08-17T10:47:33.677648Z"
    },
    "trusted": true,
    "ExecuteTime": {
     "end_time": "2023-09-24T13:04:21.104195200Z",
     "start_time": "2023-09-24T13:04:20.730647500Z"
    }
   },
   "execution_count": 13,
   "outputs": [
    {
     "data": {
      "text/plain": "<Figure size 1500x500 with 2 Axes>",
      "image/png": "[encoded data removed]"
     },
     "metadata": {},
     "output_type": "display_data"
    }
   ]
  },
  {
   "cell_type": "markdown",
   "source": [
    "# LLM vs Non-LLM solutions\n",
    "\n",
    "In this notebook, we won't be using an LLM model to embedd the text features. Instead we will calculate some numeric features from the text features like token count, length etc. Using these numeric features, we can create tabular data that can be used train our Model. This approach shows that sometimes non-LLM solutions can also give good results.   "
   ],
   "metadata": {}
  },
  {
   "cell_type": "markdown",
   "source": [
    "# Preprocess the data"
   ],
   "metadata": {}
  },
  {
   "cell_type": "code",
   "source": [
    "# Reference: https://www.kaggle.com/code/sercanyesiloz/commonlit-tf-idf-xgb-baseline#4.-Feature-Engineering\n",
    "\n",
    "# A stop word is a commonly used word (such as “the”, “a”, “an”, “in”) that a search engine has been programmed to ignore, \n",
    "# both when indexing entries for searching and when retrieving them as the result of a search query.\n",
    "# Count the stop words in the text.\n",
    "def count_stopwords(text: str) -> int:\n",
    "    stopword_list = set(stopwords.words('english'))\n",
    "    words = text.split()\n",
    "    stopwords_count = sum(1 for word in words if word.lower() in stopword_list)\n",
    "    return stopwords_count\n",
    "\n",
    "# Count the punctuations in the text.\n",
    "# punctuation_set -> !\"#$%&'()*+, -./:;<=>?@[\\]^_`{|}~\n",
    "def count_punctuation(text: str) -> int:\n",
    "    punctuation_set = set(string.punctuation)\n",
    "    punctuation_count = sum(1 for char in text if char in punctuation_set)\n",
    "    return punctuation_count\n",
    "\n",
    "# Count the digits in the text.\n",
    "def count_numbers(text: str) -> int:\n",
    "    numbers = re.findall(r'\\d+', text)\n",
    "    numbers_count = len(numbers)\n",
    "    return numbers_count\n",
    "\n",
    "# This function applies all the above preprocessing functions on a text feature.\n",
    "def feature_engineer(dataframe: pd.DataFrame, feature: str = 'text') -> pd.DataFrame:\n",
    "    dataframe[f'{feature}_word_cnt'] = dataframe[feature].apply(lambda x: len(x.split(' ')))\n",
    "    dataframe[f'{feature}_length'] = dataframe[feature].apply(lambda x: len(x))\n",
    "    dataframe[f'{feature}_stopword_cnt'] = dataframe[feature].apply(lambda x: count_stopwords(x))\n",
    "    dataframe[f'{feature}_punct_cnt'] = dataframe[feature].apply(lambda x: count_punctuation(x))\n",
    "    dataframe[f'{feature}_number_cnt'] = dataframe[feature].apply(lambda x: count_numbers(x))\n",
    "    return dataframe"
   ],
   "metadata": {
    "execution": {
     "iopub.status.busy": "2023-08-17T10:47:33.681078Z",
     "iopub.execute_input": "2023-08-17T10:47:33.681869Z",
     "iopub.status.idle": "2023-08-17T10:47:33.695996Z",
     "shell.execute_reply.started": "2023-08-17T10:47:33.681825Z",
     "shell.execute_reply": "2023-08-17T10:47:33.694351Z"
    },
    "trusted": true,
    "ExecuteTime": {
     "end_time": "2023-09-24T13:07:26.377732900Z",
     "start_time": "2023-09-24T13:07:26.373359500Z"
    }
   },
   "execution_count": 14,
   "outputs": []
  },
  {
   "cell_type": "code",
   "execution_count": 17,
   "outputs": [
    {
     "name": "stderr",
     "output_type": "stream",
     "text": [
      "[nltk_data] Downloading package stopwords to\n",
      "[nltk_data]     C:\\Users\\joelk\\AppData\\Roaming\\nltk_data...\n",
      "[nltk_data]   Unzipping corpora\\stopwords.zip.\n"
     ]
    },
    {
     "data": {
      "text/plain": "True"
     },
     "execution_count": 17,
     "metadata": {},
     "output_type": "execute_result"
    }
   ],
   "source": [
    "import nltk\n",
    "nltk.download('stopwords')\n"
   ],
   "metadata": {
    "collapsed": false,
    "ExecuteTime": {
     "end_time": "2023-09-24T13:09:03.383634400Z",
     "start_time": "2023-09-24T13:09:03.242699500Z"
    }
   }
  },
  {
   "cell_type": "code",
   "source": [
    "preprocessed_df = feature_engineer(df_train)\n",
    "print(\"Full summaries train dataset shape is {}\".format(preprocessed_df.shape))"
   ],
   "metadata": {
    "execution": {
     "iopub.status.busy": "2023-08-17T10:47:33.698651Z",
     "iopub.execute_input": "2023-08-17T10:47:33.699218Z",
     "iopub.status.idle": "2023-08-17T10:47:35.553847Z",
     "shell.execute_reply.started": "2023-08-17T10:47:33.699136Z",
     "shell.execute_reply": "2023-08-17T10:47:35.552066Z"
    },
    "trusted": true,
    "ExecuteTime": {
     "end_time": "2023-09-24T13:09:33.633618400Z",
     "start_time": "2023-09-24T13:09:32.747398400Z"
    }
   },
   "execution_count": 19,
   "outputs": [
    {
     "name": "stdout",
     "output_type": "stream",
     "text": [
      "Full summaries train dataset shape is (7165, 13)\n"
     ]
    }
   ]
  },
  {
   "cell_type": "markdown",
   "source": [
    "The data is composed of 13 columns and 7165 entries. We can see all 13 dimensions of our dataset by printing out the first 5 entries using the following code:"
   ],
   "metadata": {}
  },
  {
   "cell_type": "code",
   "source": [
    "preprocessed_df.head()"
   ],
   "metadata": {
    "execution": {
     "iopub.status.busy": "2023-08-17T10:47:35.562613Z",
     "iopub.execute_input": "2023-08-17T10:47:35.563344Z",
     "iopub.status.idle": "2023-08-17T10:47:35.591371Z",
     "shell.execute_reply.started": "2023-08-17T10:47:35.563302Z",
     "shell.execute_reply": "2023-08-17T10:47:35.588430Z"
    },
    "trusted": true,
    "ExecuteTime": {
     "end_time": "2023-09-24T13:10:36.988512Z",
     "start_time": "2023-09-24T13:10:36.956738500Z"
    }
   },
   "execution_count": 20,
   "outputs": [
    {
     "data": {
      "text/plain": "     student_id prompt_id                                               text  \\\n0  000e8c3c7ddb    814d6b  The third wave was an experimentto see how peo...   \n1  0070c9e7af47    814d6b  The Third Wave developed  rapidly because the ...   \n2  0095993991fe    814d6b  The third wave only started as an experiment w...   \n3  00c20c6ddd23    814d6b  The experimen was orginally about how even whe...   \n4  00d40ad10dc9    814d6b  The third wave developed so quickly due to the...   \n\n    content   wording                                    prompt_question  \\\n0  0.205683  0.380538  Summarize how the Third Wave developed over su...   \n1  3.272894  3.219757  Summarize how the Third Wave developed over su...   \n2  0.205683  0.380538  Summarize how the Third Wave developed over su...   \n3  0.567975  0.969062  Summarize how the Third Wave developed over su...   \n4 -0.910596 -0.081769  Summarize how the Third Wave developed over su...   \n\n     prompt_title                                        prompt_text  \\\n0  The Third Wave  Background \\r\\nThe Third Wave experiment took ...   \n1  The Third Wave  Background \\r\\nThe Third Wave experiment took ...   \n2  The Third Wave  Background \\r\\nThe Third Wave experiment took ...   \n3  The Third Wave  Background \\r\\nThe Third Wave experiment took ...   \n4  The Third Wave  Background \\r\\nThe Third Wave experiment took ...   \n\n   text_word_cnt  text_length  text_stopword_cnt  text_punct_cnt  \\\n0             61          346                 25               3   \n1            206         1225                 92              30   \n2             60          345                 27               9   \n3             76          451                 35              10   \n4             27          145                 12               2   \n\n   text_number_cnt  \n0                0  \n1                3  \n2                0  \n3                0  \n4                0  ",
      "text/html": "<div>\n<style scoped>\n    .dataframe tbody tr th:only-of-type {\n        vertical-align: middle;\n    }\n\n    .dataframe tbody tr th {\n        vertical-align: top;\n    }\n\n    .dataframe thead th {\n        text-align: right;\n    }\n</style>\n<table border=\"1\" class=\"dataframe\">\n  <thead>\n    <tr style=\"text-align: right;\">\n      <th></th>\n      <th>student_id</th>\n      <th>prompt_id</th>\n      <th>text</th>\n      <th>content</th>\n      <th>wording</th>\n      <th>prompt_question</th>\n      <th>prompt_title</th>\n      <th>prompt_text</th>\n      <th>text_word_cnt</th>\n      <th>text_length</th>\n      <th>text_stopword_cnt</th>\n      <th>text_punct_cnt</th>\n      <th>text_number_cnt</th>\n    </tr>\n  </thead>\n  <tbody>\n    <tr>\n      <th>0</th>\n      <td>000e8c3c7ddb</td>\n      <td>814d6b</td>\n      <td>The third wave was an experimentto see how peo...</td>\n      <td>0.205683</td>\n      <td>0.380538</td>\n      <td>Summarize how the Third Wave developed over su...</td>\n      <td>The Third Wave</td>\n      <td>Background \\r\\nThe Third Wave experiment took ...</td>\n      <td>61</td>\n      <td>346</td>\n      <td>25</td>\n      <td>3</td>\n      <td>0</td>\n    </tr>\n    <tr>\n      <th>1</th>\n      <td>0070c9e7af47</td>\n      <td>814d6b</td>\n      <td>The Third Wave developed  rapidly because the ...</td>\n      <td>3.272894</td>\n      <td>3.219757</td>\n      <td>Summarize how the Third Wave developed over su...</td>\n      <td>The Third Wave</td>\n      <td>Background \\r\\nThe Third Wave experiment took ...</td>\n      <td>206</td>\n      <td>1225</td>\n      <td>92</td>\n      <td>30</td>\n      <td>3</td>\n    </tr>\n    <tr>\n      <th>2</th>\n      <td>0095993991fe</td>\n      <td>814d6b</td>\n      <td>The third wave only started as an experiment w...</td>\n      <td>0.205683</td>\n      <td>0.380538</td>\n      <td>Summarize how the Third Wave developed over su...</td>\n      <td>The Third Wave</td>\n      <td>Background \\r\\nThe Third Wave experiment took ...</td>\n      <td>60</td>\n      <td>345</td>\n      <td>27</td>\n      <td>9</td>\n      <td>0</td>\n    </tr>\n    <tr>\n      <th>3</th>\n      <td>00c20c6ddd23</td>\n      <td>814d6b</td>\n      <td>The experimen was orginally about how even whe...</td>\n      <td>0.567975</td>\n      <td>0.969062</td>\n      <td>Summarize how the Third Wave developed over su...</td>\n      <td>The Third Wave</td>\n      <td>Background \\r\\nThe Third Wave experiment took ...</td>\n      <td>76</td>\n      <td>451</td>\n      <td>35</td>\n      <td>10</td>\n      <td>0</td>\n    </tr>\n    <tr>\n      <th>4</th>\n      <td>00d40ad10dc9</td>\n      <td>814d6b</td>\n      <td>The third wave developed so quickly due to the...</td>\n      <td>-0.910596</td>\n      <td>-0.081769</td>\n      <td>Summarize how the Third Wave developed over su...</td>\n      <td>The Third Wave</td>\n      <td>Background \\r\\nThe Third Wave experiment took ...</td>\n      <td>27</td>\n      <td>145</td>\n      <td>12</td>\n      <td>2</td>\n      <td>0</td>\n    </tr>\n  </tbody>\n</table>\n</div>"
     },
     "execution_count": 20,
     "metadata": {},
     "output_type": "execute_result"
    }
   ]
  },
  {
   "cell_type": "code",
   "source": [
    "preprocessed_df.describe()"
   ],
   "metadata": {
    "execution": {
     "iopub.status.busy": "2023-08-17T10:47:35.593964Z",
     "iopub.execute_input": "2023-08-17T10:47:35.595946Z",
     "iopub.status.idle": "2023-08-17T10:47:35.643509Z",
     "shell.execute_reply.started": "2023-08-17T10:47:35.595837Z",
     "shell.execute_reply": "2023-08-17T10:47:35.642247Z"
    },
    "trusted": true,
    "ExecuteTime": {
     "end_time": "2023-09-24T13:10:55.202385800Z",
     "start_time": "2023-09-24T13:10:55.184476700Z"
    }
   },
   "execution_count": 21,
   "outputs": [
    {
     "data": {
      "text/plain": "           content      wording  text_word_cnt  text_length  \\\ncount  7165.000000  7165.000000    7165.000000  7165.000000   \nmean     -0.014853    -0.063072      76.155618   418.776971   \nstd       1.043569     1.036048      54.538587   307.833685   \nmin      -1.729859    -1.962614      22.000000   114.000000   \n25%      -0.799545    -0.872720      40.000000   216.000000   \n50%      -0.093814    -0.081769      59.000000   320.000000   \n75%       0.499660     0.503833      93.000000   513.000000   \nmax       3.900326     4.310693     651.000000  3940.000000   \n\n       text_stopword_cnt  text_punct_cnt  text_number_cnt  \ncount        7165.000000     7165.000000      7165.000000  \nmean           36.306769        9.355059         0.378786  \nstd            25.813092        9.474397         0.937313  \nmin             5.000000        0.000000         0.000000  \n25%            19.000000        4.000000         0.000000  \n50%            28.000000        6.000000         0.000000  \n75%            45.000000       12.000000         0.000000  \nmax           315.000000      162.000000        14.000000  ",
      "text/html": "<div>\n<style scoped>\n    .dataframe tbody tr th:only-of-type {\n        vertical-align: middle;\n    }\n\n    .dataframe tbody tr th {\n        vertical-align: top;\n    }\n\n    .dataframe thead th {\n        text-align: right;\n    }\n</style>\n<table border=\"1\" class=\"dataframe\">\n  <thead>\n    <tr style=\"text-align: right;\">\n      <th></th>\n      <th>content</th>\n      <th>wording</th>\n      <th>text_word_cnt</th>\n      <th>text_length</th>\n      <th>text_stopword_cnt</th>\n      <th>text_punct_cnt</th>\n      <th>text_number_cnt</th>\n    </tr>\n  </thead>\n  <tbody>\n    <tr>\n      <th>count</th>\n      <td>7165.000000</td>\n      <td>7165.000000</td>\n      <td>7165.000000</td>\n      <td>7165.000000</td>\n      <td>7165.000000</td>\n      <td>7165.000000</td>\n      <td>7165.000000</td>\n    </tr>\n    <tr>\n      <th>mean</th>\n      <td>-0.014853</td>\n      <td>-0.063072</td>\n      <td>76.155618</td>\n      <td>418.776971</td>\n      <td>36.306769</td>\n      <td>9.355059</td>\n      <td>0.378786</td>\n    </tr>\n    <tr>\n      <th>std</th>\n      <td>1.043569</td>\n      <td>1.036048</td>\n      <td>54.538587</td>\n      <td>307.833685</td>\n      <td>25.813092</td>\n      <td>9.474397</td>\n      <td>0.937313</td>\n    </tr>\n    <tr>\n      <th>min</th>\n      <td>-1.729859</td>\n      <td>-1.962614</td>\n      <td>22.000000</td>\n      <td>114.000000</td>\n      <td>5.000000</td>\n      <td>0.000000</td>\n      <td>0.000000</td>\n    </tr>\n    <tr>\n      <th>25%</th>\n      <td>-0.799545</td>\n      <td>-0.872720</td>\n      <td>40.000000</td>\n      <td>216.000000</td>\n      <td>19.000000</td>\n      <td>4.000000</td>\n      <td>0.000000</td>\n    </tr>\n    <tr>\n      <th>50%</th>\n      <td>-0.093814</td>\n      <td>-0.081769</td>\n      <td>59.000000</td>\n      <td>320.000000</td>\n      <td>28.000000</td>\n      <td>6.000000</td>\n      <td>0.000000</td>\n    </tr>\n    <tr>\n      <th>75%</th>\n      <td>0.499660</td>\n      <td>0.503833</td>\n      <td>93.000000</td>\n      <td>513.000000</td>\n      <td>45.000000</td>\n      <td>12.000000</td>\n      <td>0.000000</td>\n    </tr>\n    <tr>\n      <th>max</th>\n      <td>3.900326</td>\n      <td>4.310693</td>\n      <td>651.000000</td>\n      <td>3940.000000</td>\n      <td>315.000000</td>\n      <td>162.000000</td>\n      <td>14.000000</td>\n    </tr>\n  </tbody>\n</table>\n</div>"
     },
     "execution_count": 21,
     "metadata": {},
     "output_type": "execute_result"
    }
   ]
  },
  {
   "cell_type": "markdown",
   "source": [
    "## Extract feature columns"
   ],
   "metadata": {}
  },
  {
   "cell_type": "code",
   "source": [
    "FEATURE_COLUMNS = preprocessed_df.drop(columns = ['student_id', 'prompt_id', 'text', 'prompt_question', \n",
    "                                           'prompt_title', 'prompt_text', 'content', 'wording'], axis = 1).columns.to_list()"
   ],
   "metadata": {
    "execution": {
     "iopub.status.busy": "2023-08-17T10:47:35.645860Z",
     "iopub.execute_input": "2023-08-17T10:47:35.646367Z",
     "iopub.status.idle": "2023-08-17T10:47:35.655521Z",
     "shell.execute_reply.started": "2023-08-17T10:47:35.646320Z",
     "shell.execute_reply": "2023-08-17T10:47:35.653466Z"
    },
    "trusted": true,
    "ExecuteTime": {
     "end_time": "2023-09-24T13:11:55.311288900Z",
     "start_time": "2023-09-24T13:11:55.302801900Z"
    }
   },
   "execution_count": 22,
   "outputs": []
  },
  {
   "cell_type": "code",
   "source": [
    "FEATURE_COLUMNS"
   ],
   "metadata": {
    "execution": {
     "iopub.status.busy": "2023-08-17T10:47:35.657151Z",
     "iopub.execute_input": "2023-08-17T10:47:35.657675Z",
     "iopub.status.idle": "2023-08-17T10:47:35.677824Z",
     "shell.execute_reply.started": "2023-08-17T10:47:35.657629Z",
     "shell.execute_reply": "2023-08-17T10:47:35.676634Z"
    },
    "trusted": true,
    "ExecuteTime": {
     "end_time": "2023-09-24T13:11:58.231210200Z",
     "start_time": "2023-09-24T13:11:58.224998Z"
    }
   },
   "execution_count": 23,
   "outputs": [
    {
     "data": {
      "text/plain": "['text_word_cnt',\n 'text_length',\n 'text_stopword_cnt',\n 'text_punct_cnt',\n 'text_number_cnt']"
     },
     "execution_count": 23,
     "metadata": {},
     "output_type": "execute_result"
    }
   ]
  },
  {
   "cell_type": "markdown",
   "source": [
    "## Plot feature columns"
   ],
   "metadata": {}
  },
  {
   "cell_type": "code",
   "source": [
    "figure, axis = plt.subplots(3, 2, figsize=(15, 15))\n",
    "plt.subplots_adjust(hspace=0.25, wspace=0.3)\n",
    "\n",
    "for i, column_name in enumerate(FEATURE_COLUMNS):\n",
    "    row = i//2\n",
    "    col = i % 2\n",
    "    bp = sns.barplot(ax=axis[row, col], x=preprocessed_df['student_id'], y=preprocessed_df[column_name])\n",
    "    bp.set(xticklabels=[])\n",
    "    axis[row, col].set_title(column_name)\n",
    "axis[2, 1].set_visible(False)\n",
    "plt.show()"
   ],
   "metadata": {
    "execution": {
     "iopub.status.busy": "2023-08-17T10:47:35.680096Z",
     "iopub.execute_input": "2023-08-17T10:47:35.681187Z",
     "iopub.status.idle": "2023-08-17T10:52:05.600313Z",
     "shell.execute_reply.started": "2023-08-17T10:47:35.681125Z",
     "shell.execute_reply": "2023-08-17T10:52:05.599461Z"
    },
    "trusted": true,
    "ExecuteTime": {
     "end_time": "2023-09-24T13:18:39.710399400Z",
     "start_time": "2023-09-24T13:16:48.734798200Z"
    }
   },
   "execution_count": 25,
   "outputs": [
    {
     "data": {
      "text/plain": "<Figure size 1500x1500 with 6 Axes>",
      "image/png": "[encoded data removed]"
     },
     "metadata": {},
     "output_type": "display_data"
    }
   ]
  },
  {
   "cell_type": "markdown",
   "source": [
    "Now let us split the dataset into training and testing datasets:"
   ],
   "metadata": {}
  },
  {
   "cell_type": "code",
   "source": [
    "def split_dataset(dataset, test_ratio=0.20):\n",
    "  test_indices = np.random.rand(len(dataset)) < test_ratio\n",
    "  return dataset[~test_indices], dataset[test_indices]\n",
    "\n",
    "train_ds_pd, valid_ds_pd = split_dataset(preprocessed_df)\n",
    "train_ds_pd.shape, valid_ds_pd.shape"
   ],
   "metadata": {
    "execution": {
     "iopub.status.busy": "2023-08-17T10:52:05.601329Z",
     "iopub.execute_input": "2023-08-17T10:52:05.601652Z",
     "iopub.status.idle": "2023-08-17T10:52:05.616490Z",
     "shell.execute_reply.started": "2023-08-17T10:52:05.601625Z",
     "shell.execute_reply": "2023-08-17T10:52:05.615123Z"
    },
    "trusted": true,
    "ExecuteTime": {
     "end_time": "2023-09-24T13:21:34.814480200Z",
     "start_time": "2023-09-24T13:21:34.798355100Z"
    }
   },
   "execution_count": 26,
   "outputs": [
    {
     "data": {
      "text/plain": "((5721, 13), (1444, 13))"
     },
     "execution_count": 26,
     "metadata": {},
     "output_type": "execute_result"
    }
   ]
  },
  {
   "cell_type": "code",
   "source": [
    "train_ds_pd.head()"
   ],
   "metadata": {
    "execution": {
     "iopub.status.busy": "2023-08-17T10:52:05.618230Z",
     "iopub.execute_input": "2023-08-17T10:52:05.618690Z",
     "iopub.status.idle": "2023-08-17T10:52:05.640889Z",
     "shell.execute_reply.started": "2023-08-17T10:52:05.618647Z",
     "shell.execute_reply": "2023-08-17T10:52:05.639557Z"
    },
    "trusted": true,
    "ExecuteTime": {
     "end_time": "2023-09-24T13:22:00.405496400Z",
     "start_time": "2023-09-24T13:22:00.395668200Z"
    }
   },
   "execution_count": 27,
   "outputs": [
    {
     "data": {
      "text/plain": "     student_id prompt_id                                               text  \\\n1  0070c9e7af47    814d6b  The Third Wave developed  rapidly because the ...   \n2  0095993991fe    814d6b  The third wave only started as an experiment w...   \n3  00c20c6ddd23    814d6b  The experimen was orginally about how even whe...   \n4  00d40ad10dc9    814d6b  The third wave developed so quickly due to the...   \n5  014e2395b3c4    814d6b  The Thrid Wave movement in the school has more...   \n\n    content   wording                                    prompt_question  \\\n1  3.272894  3.219757  Summarize how the Third Wave developed over su...   \n2  0.205683  0.380538  Summarize how the Third Wave developed over su...   \n3  0.567975  0.969062  Summarize how the Third Wave developed over su...   \n4 -0.910596 -0.081769  Summarize how the Third Wave developed over su...   \n5  1.376083  2.389443  Summarize how the Third Wave developed over su...   \n\n     prompt_title                                        prompt_text  \\\n1  The Third Wave  Background \\r\\nThe Third Wave experiment took ...   \n2  The Third Wave  Background \\r\\nThe Third Wave experiment took ...   \n3  The Third Wave  Background \\r\\nThe Third Wave experiment took ...   \n4  The Third Wave  Background \\r\\nThe Third Wave experiment took ...   \n5  The Third Wave  Background \\r\\nThe Third Wave experiment took ...   \n\n   text_word_cnt  text_length  text_stopword_cnt  text_punct_cnt  \\\n1            206         1225                 92              30   \n2             60          345                 27               9   \n3             76          451                 35              10   \n4             27          145                 12               2   \n5            126          734                 67               7   \n\n   text_number_cnt  \n1                3  \n2                0  \n3                0  \n4                0  \n5                0  ",
      "text/html": "<div>\n<style scoped>\n    .dataframe tbody tr th:only-of-type {\n        vertical-align: middle;\n    }\n\n    .dataframe tbody tr th {\n        vertical-align: top;\n    }\n\n    .dataframe thead th {\n        text-align: right;\n    }\n</style>\n<table border=\"1\" class=\"dataframe\">\n  <thead>\n    <tr style=\"text-align: right;\">\n      <th></th>\n      <th>student_id</th>\n      <th>prompt_id</th>\n      <th>text</th>\n      <th>content</th>\n      <th>wording</th>\n      <th>prompt_question</th>\n      <th>prompt_title</th>\n      <th>prompt_text</th>\n      <th>text_word_cnt</th>\n      <th>text_length</th>\n      <th>text_stopword_cnt</th>\n      <th>text_punct_cnt</th>\n      <th>text_number_cnt</th>\n    </tr>\n  </thead>\n  <tbody>\n    <tr>\n      <th>1</th>\n      <td>0070c9e7af47</td>\n      <td>814d6b</td>\n      <td>The Third Wave developed  rapidly because the ...</td>\n      <td>3.272894</td>\n      <td>3.219757</td>\n      <td>Summarize how the Third Wave developed over su...</td>\n      <td>The Third Wave</td>\n      <td>Background \\r\\nThe Third Wave experiment took ...</td>\n      <td>206</td>\n      <td>1225</td>\n      <td>92</td>\n      <td>30</td>\n      <td>3</td>\n    </tr>\n    <tr>\n      <th>2</th>\n      <td>0095993991fe</td>\n      <td>814d6b</td>\n      <td>The third wave only started as an experiment w...</td>\n      <td>0.205683</td>\n      <td>0.380538</td>\n      <td>Summarize how the Third Wave developed over su...</td>\n      <td>The Third Wave</td>\n      <td>Background \\r\\nThe Third Wave experiment took ...</td>\n      <td>60</td>\n      <td>345</td>\n      <td>27</td>\n      <td>9</td>\n      <td>0</td>\n    </tr>\n    <tr>\n      <th>3</th>\n      <td>00c20c6ddd23</td>\n      <td>814d6b</td>\n      <td>The experimen was orginally about how even whe...</td>\n      <td>0.567975</td>\n      <td>0.969062</td>\n      <td>Summarize how the Third Wave developed over su...</td>\n      <td>The Third Wave</td>\n      <td>Background \\r\\nThe Third Wave experiment took ...</td>\n      <td>76</td>\n      <td>451</td>\n      <td>35</td>\n      <td>10</td>\n      <td>0</td>\n    </tr>\n    <tr>\n      <th>4</th>\n      <td>00d40ad10dc9</td>\n      <td>814d6b</td>\n      <td>The third wave developed so quickly due to the...</td>\n      <td>-0.910596</td>\n      <td>-0.081769</td>\n      <td>Summarize how the Third Wave developed over su...</td>\n      <td>The Third Wave</td>\n      <td>Background \\r\\nThe Third Wave experiment took ...</td>\n      <td>27</td>\n      <td>145</td>\n      <td>12</td>\n      <td>2</td>\n      <td>0</td>\n    </tr>\n    <tr>\n      <th>5</th>\n      <td>014e2395b3c4</td>\n      <td>814d6b</td>\n      <td>The Thrid Wave movement in the school has more...</td>\n      <td>1.376083</td>\n      <td>2.389443</td>\n      <td>Summarize how the Third Wave developed over su...</td>\n      <td>The Third Wave</td>\n      <td>Background \\r\\nThe Third Wave experiment took ...</td>\n      <td>126</td>\n      <td>734</td>\n      <td>67</td>\n      <td>7</td>\n      <td>0</td>\n    </tr>\n  </tbody>\n</table>\n</div>"
     },
     "execution_count": 27,
     "metadata": {},
     "output_type": "execute_result"
    }
   ]
  },
  {
   "cell_type": "markdown",
   "source": [
    "There's one more step required before we can train the model. We need to convert the datatset from Pandas format (`pd.DataFrame`) into TensorFlow Datasets format (`tf.data.Dataset`).\n",
    "\n",
    "[TensorFlow Datasets](https://www.tensorflow.org/datasets/overview) is a high performance data loading library which is helpful when training neural networks with accelerators like GPUs and TPUs.\n",
    "\n",
    "By default the Random Forest Model is configured to train classification tasks. Since this is a regression problem, we will specify the type of the task (`tfdf.keras.Task.REGRESSION`) as a parameter here."
   ],
   "metadata": {}
  },
  {
   "cell_type": "code",
   "source": [
    "# `content` label datatset columns\n",
    "FEATURE_CONTENT = FEATURE_COLUMNS + ['content']\n",
    "\n",
    "# `wording` label datatset columns\n",
    "FEATURE_WORDING = FEATURE_COLUMNS + ['wording']\n",
    "\n",
    "# Convert dataframes to corresponding datasets\n",
    "content_train_ds = tfdf.keras.pd_dataframe_to_tf_dataset(train_ds_pd[FEATURE_CONTENT], label='content', task = tfdf.keras.Task.REGRESSION)\n",
    "wording_train_ds = tfdf.keras.pd_dataframe_to_tf_dataset(train_ds_pd[FEATURE_WORDING], label='wording', task = tfdf.keras.Task.REGRESSION)"
   ],
   "metadata": {
    "execution": {
     "iopub.status.busy": "2023-08-17T10:52:05.642450Z",
     "iopub.execute_input": "2023-08-17T10:52:05.643424Z",
     "iopub.status.idle": "2023-08-17T10:52:05.779665Z",
     "shell.execute_reply.started": "2023-08-17T10:52:05.643384Z",
     "shell.execute_reply": "2023-08-17T10:52:05.778683Z"
    },
    "trusted": true
   },
   "execution_count": null,
   "outputs": []
  },
  {
   "cell_type": "markdown",
   "source": [
    "# Select a Model\n",
    "\n",
    "There are several tree-based models for you to choose from.\n",
    "\n",
    "* RandomForestModel\n",
    "* GradientBoostedTreesModel\n",
    "* CartModel\n",
    "* DistributedGradientBoostedTreesModel\n",
    "\n",
    "To start, we'll work with a Random Forest. This is the most well-known of the Decision Forest training algorithms.\n",
    "\n",
    "A Random Forest is a collection of decision trees, each trained independently on a random subset of the training dataset (sampled with replacement). The algorithm is unique in that it is robust to overfitting, and easy to use.\n",
    "\n",
    "We can list the all the available models in TensorFlow Decision Forests using the following code:"
   ],
   "metadata": {}
  },
  {
   "cell_type": "code",
   "source": [
    "tfdf.keras.get_all_models()"
   ],
   "metadata": {
    "execution": {
     "iopub.status.busy": "2023-08-17T10:52:05.780909Z",
     "iopub.execute_input": "2023-08-17T10:52:05.781862Z",
     "iopub.status.idle": "2023-08-17T10:52:05.789864Z",
     "shell.execute_reply.started": "2023-08-17T10:52:05.781825Z",
     "shell.execute_reply": "2023-08-17T10:52:05.788513Z"
    },
    "trusted": true
   },
   "execution_count": null,
   "outputs": []
  },
  {
   "cell_type": "markdown",
   "source": [
    "# Configure the model\n",
    "\n",
    "TensorFlow Decision Forests provides good defaults for you (e.g. the top ranking hyperparameters on our benchmarks, slightly modified to run in reasonable time). If you would like to configure the learning algorithm, you will find many options you can explore to get the highest possible accuracy.\n",
    "\n",
    "You can select a template and/or set parameters as follows:\n",
    "\n",
    "```rf = tfdf.keras.RandomForestModel(hyperparameter_template=\"benchmark_rank1\")```\n",
    "\n",
    "Read more [here](https://www.tensorflow.org/decision_forests/api_docs/python/tfdf/keras/RandomForestModel)."
   ],
   "metadata": {}
  },
  {
   "cell_type": "markdown",
   "source": [
    "# Create a Random Forest\n",
    "\n",
    "Today, we will use the defaults to create the Random Forest Model while specifiyng the task type as `tfdf.keras.Task.REGRESSION`."
   ],
   "metadata": {}
  },
  {
   "cell_type": "code",
   "source": [
    "# Create RandomForestModel for label content\n",
    "model_content = tfdf.keras.RandomForestModel(task=tfdf.keras.Task.REGRESSION)\n",
    "model_content.compile(metrics=[\"mse\"])\n",
    "\n",
    "# Create RandomForestModel for label wording\n",
    "model_wording = tfdf.keras.RandomForestModel(task=tfdf.keras.Task.REGRESSION)\n",
    "model_wording.compile(metrics=[\"mse\"])"
   ],
   "metadata": {
    "execution": {
     "iopub.status.busy": "2023-08-17T10:52:05.791863Z",
     "iopub.execute_input": "2023-08-17T10:52:05.792713Z",
     "iopub.status.idle": "2023-08-17T10:52:05.897186Z",
     "shell.execute_reply.started": "2023-08-17T10:52:05.792677Z",
     "shell.execute_reply": "2023-08-17T10:52:05.895884Z"
    },
    "trusted": true
   },
   "execution_count": null,
   "outputs": []
  },
  {
   "cell_type": "markdown",
   "source": [
    "# Train the model\n",
    "\n",
    "We will train the model using a one-liner.\n",
    "\n",
    "Note: you may see a warning about Autograph. You can safely ignore this, it will be fixed in the next release."
   ],
   "metadata": {}
  },
  {
   "cell_type": "code",
   "source": [
    "# Training RandomForestModel for label content\n",
    "model_content.fit(x=content_train_ds)\n",
    "\n",
    "# Training RandomForestModel for label wording\n",
    "model_wording.fit(x=wording_train_ds)"
   ],
   "metadata": {
    "execution": {
     "iopub.status.busy": "2023-08-17T10:52:05.899527Z",
     "iopub.execute_input": "2023-08-17T10:52:05.900207Z",
     "iopub.status.idle": "2023-08-17T10:52:25.101305Z",
     "shell.execute_reply.started": "2023-08-17T10:52:05.900152Z",
     "shell.execute_reply": "2023-08-17T10:52:25.099873Z"
    },
    "trusted": true
   },
   "execution_count": null,
   "outputs": []
  },
  {
   "cell_type": "markdown",
   "source": [
    "# Visualize the model\n",
    "One benefit of tree-based models is that we can easily visualize them. The default number of trees used in the Random Forests is 300. We can select a tree to display below."
   ],
   "metadata": {}
  },
  {
   "cell_type": "code",
   "source": [
    "# Visualize model_content\n",
    "tfdf.model_plotter.plot_model_in_colab(model_content, tree_idx=0, max_depth=3)"
   ],
   "metadata": {
    "execution": {
     "iopub.status.busy": "2023-08-17T10:52:25.102876Z",
     "iopub.execute_input": "2023-08-17T10:52:25.103208Z",
     "iopub.status.idle": "2023-08-17T10:52:25.169291Z",
     "shell.execute_reply.started": "2023-08-17T10:52:25.103180Z",
     "shell.execute_reply": "2023-08-17T10:52:25.167876Z"
    },
    "trusted": true
   },
   "execution_count": null,
   "outputs": []
  },
  {
   "cell_type": "code",
   "source": [
    "# Visualize model_content\n",
    "tfdf.model_plotter.plot_model_in_colab(model_wording, tree_idx=0, max_depth=3)"
   ],
   "metadata": {
    "execution": {
     "iopub.status.busy": "2023-08-17T10:52:25.170975Z",
     "iopub.execute_input": "2023-08-17T10:52:25.171442Z",
     "iopub.status.idle": "2023-08-17T10:52:25.266930Z",
     "shell.execute_reply.started": "2023-08-17T10:52:25.171400Z",
     "shell.execute_reply": "2023-08-17T10:52:25.265756Z"
    },
    "trusted": true
   },
   "execution_count": null,
   "outputs": []
  },
  {
   "cell_type": "markdown",
   "source": [
    "# Evaluate the model on the Out of bag (OOB) data and the validation dataset\n",
    "\n",
    "Before training the dataset we have manually seperated 20% of the dataset for validation named as `valid_ds`.\n",
    "\n",
    "We can also use Out of bag (OOB) score to validate our RandomForestModel.\n",
    "To train a Random Forest Model, a set of random samples from training set are choosen by the algorithm and the rest of the samples are used to finetune the model.The subset of data that is not chosen is known as Out of bag data (OOB).\n",
    "OOB score is computed on the OOB data.\n",
    "\n",
    "Read more about OOB data [here](https://developers.google.com/machine-learning/decision-forests/out-of-bag).\n",
    "\n",
    "The training logs show the Root Mean Squared Error (RMSE) evaluated on the out-of-bag dataset according to the number of trees in the model. Let us plot this.\n",
    "\n",
    "Note: Smaller values are better for this hyperparameter."
   ],
   "metadata": {}
  },
  {
   "cell_type": "code",
   "source": [
    "# Plot log data for model_content\n",
    "logs = model_content.make_inspector().training_logs()\n",
    "plt.plot([log.num_trees for log in logs], [log.evaluation.rmse for log in logs])\n",
    "plt.xlabel(\"Number of trees\")\n",
    "plt.ylabel(\"RMSE (out-of-bag)\")\n",
    "plt.show()"
   ],
   "metadata": {
    "execution": {
     "iopub.status.busy": "2023-08-17T10:52:25.268644Z",
     "iopub.execute_input": "2023-08-17T10:52:25.269402Z",
     "iopub.status.idle": "2023-08-17T10:52:25.543248Z",
     "shell.execute_reply.started": "2023-08-17T10:52:25.269357Z",
     "shell.execute_reply": "2023-08-17T10:52:25.542042Z"
    },
    "trusted": true
   },
   "execution_count": null,
   "outputs": []
  },
  {
   "cell_type": "code",
   "source": [
    "# Plot log data for model_wording\n",
    "logs = model_wording.make_inspector().training_logs()\n",
    "plt.plot([log.num_trees for log in logs], [log.evaluation.rmse for log in logs])\n",
    "plt.xlabel(\"Number of trees\")\n",
    "plt.ylabel(\"RMSE (out-of-bag)\")\n",
    "plt.show()"
   ],
   "metadata": {
    "execution": {
     "iopub.status.busy": "2023-08-17T10:52:25.544669Z",
     "iopub.execute_input": "2023-08-17T10:52:25.545041Z",
     "iopub.status.idle": "2023-08-17T10:52:25.832194Z",
     "shell.execute_reply.started": "2023-08-17T10:52:25.545010Z",
     "shell.execute_reply": "2023-08-17T10:52:25.831224Z"
    },
    "trusted": true
   },
   "execution_count": null,
   "outputs": []
  },
  {
   "cell_type": "markdown",
   "source": [
    "We can also see some general stats on the OOB dataset:"
   ],
   "metadata": {}
  },
  {
   "cell_type": "code",
   "source": [
    "# General stats for model_content\n",
    "inspector_content = model_content.make_inspector()\n",
    "inspector_content.evaluation()"
   ],
   "metadata": {
    "execution": {
     "iopub.status.busy": "2023-08-17T10:52:25.833651Z",
     "iopub.execute_input": "2023-08-17T10:52:25.834427Z",
     "iopub.status.idle": "2023-08-17T10:52:25.846516Z",
     "shell.execute_reply.started": "2023-08-17T10:52:25.834391Z",
     "shell.execute_reply": "2023-08-17T10:52:25.844627Z"
    },
    "trusted": true
   },
   "execution_count": null,
   "outputs": []
  },
  {
   "cell_type": "code",
   "source": [
    "# General stats for model_wording\n",
    "inspector_wording = model_wording.make_inspector()\n",
    "inspector_wording.evaluation()"
   ],
   "metadata": {
    "execution": {
     "iopub.status.busy": "2023-08-17T10:52:25.849091Z",
     "iopub.execute_input": "2023-08-17T10:52:25.850112Z",
     "iopub.status.idle": "2023-08-17T10:52:25.864848Z",
     "shell.execute_reply.started": "2023-08-17T10:52:25.850063Z",
     "shell.execute_reply": "2023-08-17T10:52:25.863520Z"
    },
    "trusted": true
   },
   "execution_count": null,
   "outputs": []
  },
  {
   "cell_type": "markdown",
   "source": [
    "Now, let us run an evaluation using the validation dataset."
   ],
   "metadata": {}
  },
  {
   "cell_type": "code",
   "source": [
    "# Create validation dataset for model_content\n",
    "valid_ds_content = tfdf.keras.pd_dataframe_to_tf_dataset(valid_ds_pd[FEATURE_CONTENT], label=\"content\", task = tfdf.keras.Task.REGRESSION)\n",
    "\n",
    "# Create validation dataset for model_wording\n",
    "valid_ds_wording = tfdf.keras.pd_dataframe_to_tf_dataset(valid_ds_pd[FEATURE_WORDING], label=\"wording\", task = tfdf.keras.Task.REGRESSION)\n",
    "\n",
    "# Run evaluation for model_content\n",
    "evaluation_content = model_content.evaluate(x=valid_ds_content,return_dict=True)\n",
    "for name, value in evaluation_content.items():\n",
    "  print(f\"{name}: {value:.4f}\")\n",
    "\n",
    "# Run evaluation for model_wording\n",
    "evaluation_wording = model_wording.evaluate(x=valid_ds_wording,return_dict=True)\n",
    "for name, value in evaluation_wording.items():\n",
    "  print(f\"{name}: {value:.4f}\")"
   ],
   "metadata": {
    "execution": {
     "iopub.status.busy": "2023-08-17T10:52:25.866412Z",
     "iopub.execute_input": "2023-08-17T10:52:25.867110Z",
     "iopub.status.idle": "2023-08-17T10:52:26.742030Z",
     "shell.execute_reply.started": "2023-08-17T10:52:25.867076Z",
     "shell.execute_reply": "2023-08-17T10:52:26.741037Z"
    },
    "trusted": true
   },
   "execution_count": null,
   "outputs": []
  },
  {
   "cell_type": "markdown",
   "source": [
    "# Variable importances\n",
    "\n",
    "Variable importances generally indicate how much a feature contributes to the model predictions or quality. There are several ways to identify important features using TensorFlow Decision Forests.\n",
    "Let us list the available `Variable Importances` for Decision Trees:"
   ],
   "metadata": {}
  },
  {
   "cell_type": "code",
   "source": [
    "print(f\"Available variable importances for model_content:\")\n",
    "for importance in inspector_content.variable_importances().keys():\n",
    "  print(\"\\t\", importance)"
   ],
   "metadata": {
    "execution": {
     "iopub.status.busy": "2023-08-17T10:52:26.743448Z",
     "iopub.execute_input": "2023-08-17T10:52:26.743837Z",
     "iopub.status.idle": "2023-08-17T10:52:26.750673Z",
     "shell.execute_reply.started": "2023-08-17T10:52:26.743790Z",
     "shell.execute_reply": "2023-08-17T10:52:26.749856Z"
    },
    "trusted": true
   },
   "execution_count": null,
   "outputs": []
  },
  {
   "cell_type": "code",
   "source": [
    "print(f\"Available variable importances for model_wording:\")\n",
    "for importance in inspector_wording.variable_importances().keys():\n",
    "  print(\"\\t\", importance)"
   ],
   "metadata": {
    "execution": {
     "iopub.status.busy": "2023-08-17T10:52:26.752028Z",
     "iopub.execute_input": "2023-08-17T10:52:26.753098Z",
     "iopub.status.idle": "2023-08-17T10:52:26.764286Z",
     "shell.execute_reply.started": "2023-08-17T10:52:26.753061Z",
     "shell.execute_reply": "2023-08-17T10:52:26.763308Z"
    },
    "trusted": true
   },
   "execution_count": null,
   "outputs": []
  },
  {
   "cell_type": "markdown",
   "source": [
    "As an example, let us display the important features for the Variable Importance `NUM_AS_ROOT`.\n",
    "\n",
    "The larger the importance score for `NUM_AS_ROOT`, the more impact it has on the outcome of the model.\n",
    "\n",
    "By default, the list is sorted from the most important to the least. From the output you can infer that the feature at the top of the list is used as the root node in most number of trees in the random forest than any other feature."
   ],
   "metadata": {}
  },
  {
   "cell_type": "code",
   "source": [
    "# For model_content.\n",
    "# Each line is: (feature name, (index of the feature), importance score)\n",
    "inspector_content.variable_importances()[\"NUM_AS_ROOT\"]"
   ],
   "metadata": {
    "execution": {
     "iopub.status.busy": "2023-08-17T10:52:26.765456Z",
     "iopub.execute_input": "2023-08-17T10:52:26.766473Z",
     "iopub.status.idle": "2023-08-17T10:52:26.784781Z",
     "shell.execute_reply.started": "2023-08-17T10:52:26.766433Z",
     "shell.execute_reply": "2023-08-17T10:52:26.783547Z"
    },
    "trusted": true
   },
   "execution_count": null,
   "outputs": []
  },
  {
   "cell_type": "code",
   "source": [
    "# For model_wording.\n",
    "# Each line is: (feature name, (index of the feature), importance score)\n",
    "inspector_wording.variable_importances()[\"NUM_AS_ROOT\"]"
   ],
   "metadata": {
    "execution": {
     "iopub.status.busy": "2023-08-17T10:52:26.786150Z",
     "iopub.execute_input": "2023-08-17T10:52:26.787170Z",
     "iopub.status.idle": "2023-08-17T10:52:26.798852Z",
     "shell.execute_reply.started": "2023-08-17T10:52:26.787124Z",
     "shell.execute_reply": "2023-08-17T10:52:26.797491Z"
    },
    "trusted": true
   },
   "execution_count": null,
   "outputs": []
  },
  {
   "cell_type": "markdown",
   "source": [
    "# Submission"
   ],
   "metadata": {}
  },
  {
   "cell_type": "code",
   "source": [
    "df_test_prompt = pd.read_csv('/kaggle/input/commonlit-evaluate-student-summaries/prompts_test.csv')\n",
    "df_test_summaries = pd.read_csv('/kaggle/input/commonlit-evaluate-student-summaries/summaries_test.csv')"
   ],
   "metadata": {
    "execution": {
     "iopub.status.busy": "2023-08-17T10:52:26.800275Z",
     "iopub.execute_input": "2023-08-17T10:52:26.801370Z",
     "iopub.status.idle": "2023-08-17T10:52:26.824187Z",
     "shell.execute_reply.started": "2023-08-17T10:52:26.801323Z",
     "shell.execute_reply": "2023-08-17T10:52:26.823082Z"
    },
    "trusted": true
   },
   "execution_count": null,
   "outputs": []
  },
  {
   "cell_type": "code",
   "source": [
    "df_test = df_test_summaries.merge(df_test_prompt, on='prompt_id')"
   ],
   "metadata": {
    "execution": {
     "iopub.status.busy": "2023-08-17T10:52:26.825577Z",
     "iopub.execute_input": "2023-08-17T10:52:26.825975Z",
     "iopub.status.idle": "2023-08-17T10:52:26.834272Z",
     "shell.execute_reply.started": "2023-08-17T10:52:26.825942Z",
     "shell.execute_reply": "2023-08-17T10:52:26.833353Z"
    },
    "trusted": true
   },
   "execution_count": null,
   "outputs": []
  },
  {
   "cell_type": "code",
   "source": [
    "df_test.head()"
   ],
   "metadata": {
    "execution": {
     "iopub.status.busy": "2023-08-17T10:52:26.835439Z",
     "iopub.execute_input": "2023-08-17T10:52:26.836324Z",
     "iopub.status.idle": "2023-08-17T10:52:26.857261Z",
     "shell.execute_reply.started": "2023-08-17T10:52:26.836290Z",
     "shell.execute_reply": "2023-08-17T10:52:26.856117Z"
    },
    "trusted": true
   },
   "execution_count": null,
   "outputs": []
  },
  {
   "cell_type": "code",
   "source": [
    "processed_test_df = feature_engineer(df_test)"
   ],
   "metadata": {
    "execution": {
     "iopub.status.busy": "2023-08-17T10:52:26.859428Z",
     "iopub.execute_input": "2023-08-17T10:52:26.859855Z",
     "iopub.status.idle": "2023-08-17T10:52:26.875152Z",
     "shell.execute_reply.started": "2023-08-17T10:52:26.859824Z",
     "shell.execute_reply": "2023-08-17T10:52:26.873877Z"
    },
    "trusted": true
   },
   "execution_count": null,
   "outputs": []
  },
  {
   "cell_type": "code",
   "source": [
    "processed_test_df.head()"
   ],
   "metadata": {
    "execution": {
     "iopub.status.busy": "2023-08-17T10:52:26.876411Z",
     "iopub.execute_input": "2023-08-17T10:52:26.877196Z",
     "iopub.status.idle": "2023-08-17T10:52:26.895126Z",
     "shell.execute_reply.started": "2023-08-17T10:52:26.877161Z",
     "shell.execute_reply": "2023-08-17T10:52:26.893556Z"
    },
    "trusted": true
   },
   "execution_count": null,
   "outputs": []
  },
  {
   "cell_type": "code",
   "source": [
    "test_ds = tfdf.keras.pd_dataframe_to_tf_dataset(processed_test_df[FEATURE_COLUMNS], task = tfdf.keras.Task.REGRESSION)"
   ],
   "metadata": {
    "execution": {
     "iopub.status.busy": "2023-08-17T10:52:26.903152Z",
     "iopub.execute_input": "2023-08-17T10:52:26.904599Z",
     "iopub.status.idle": "2023-08-17T10:52:26.923576Z",
     "shell.execute_reply.started": "2023-08-17T10:52:26.904548Z",
     "shell.execute_reply": "2023-08-17T10:52:26.922361Z"
    },
    "trusted": true
   },
   "execution_count": null,
   "outputs": []
  },
  {
   "cell_type": "code",
   "source": [
    "processed_test_df['content'] = model_content.predict(test_ds)\n",
    "processed_test_df['wording'] = model_wording.predict(test_ds)"
   ],
   "metadata": {
    "execution": {
     "iopub.status.busy": "2023-08-17T10:52:26.925270Z",
     "iopub.execute_input": "2023-08-17T10:52:26.926142Z",
     "iopub.status.idle": "2023-08-17T10:52:27.063237Z",
     "shell.execute_reply.started": "2023-08-17T10:52:26.926106Z",
     "shell.execute_reply": "2023-08-17T10:52:27.062189Z"
    },
    "trusted": true
   },
   "execution_count": null,
   "outputs": []
  },
  {
   "cell_type": "code",
   "source": [
    "processed_test_df.head()"
   ],
   "metadata": {
    "execution": {
     "iopub.status.busy": "2023-08-17T10:52:27.064605Z",
     "iopub.execute_input": "2023-08-17T10:52:27.065312Z",
     "iopub.status.idle": "2023-08-17T10:52:27.084840Z",
     "shell.execute_reply.started": "2023-08-17T10:52:27.065278Z",
     "shell.execute_reply": "2023-08-17T10:52:27.083398Z"
    },
    "trusted": true
   },
   "execution_count": null,
   "outputs": []
  },
  {
   "cell_type": "code",
   "source": [
    "processed_test_df[['student_id', 'content', 'wording']].to_csv('submission.csv',index=False)\n",
    "display(pd.read_csv('submission.csv'))"
   ],
   "metadata": {
    "execution": {
     "iopub.status.busy": "2023-08-17T10:52:27.086490Z",
     "iopub.execute_input": "2023-08-17T10:52:27.087253Z",
     "iopub.status.idle": "2023-08-17T10:52:27.109041Z",
     "shell.execute_reply.started": "2023-08-17T10:52:27.087210Z",
     "shell.execute_reply": "2023-08-17T10:52:27.107739Z"
    },
    "trusted": true
   },
   "execution_count": null,
   "outputs": []
  }
 ]
}
